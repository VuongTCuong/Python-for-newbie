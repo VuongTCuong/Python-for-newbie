{
 "cells": [
  {
   "cell_type": "code",
   "execution_count": 1,
   "metadata": {},
   "outputs": [
    {
     "name": "stdout",
     "output_type": "stream",
     "text": [
      " Volume in drive D is DATA\n",
      " Volume Serial Number is 189B-991F\n",
      "\n",
      " Directory of d:\\PythonProject\\Python-for-newbie\\KiemThuPhanMem\\Tuan1\n",
      "\n",
      "09/17/2024  01:35 PM    <DIR>          .\n",
      "09/17/2024  01:35 PM    <DIR>          ..\n",
      "09/17/2024  01:35 PM    <DIR>          .idea\n",
      "09/17/2024  01:35 PM    <DIR>          .ipynb_checkpoints\n",
      "09/17/2024  01:35 PM            20,420 Main Idea.docx\n",
      "09/17/2024  02:08 PM             4,181 ptbac2.ipynb\n",
      "09/17/2024  01:35 PM             1,051 ptbac2.py\n",
      "09/17/2024  02:08 PM                 8 ptbac2_test.in\n",
      "09/17/2024  02:00 PM               938 pttrungphuong.ipynb\n",
      "09/17/2024  01:35 PM             1,822 pttrungphuong.py\n",
      "09/17/2024  01:35 PM                 8 pttrungphuong_test.in\n",
      "               7 File(s)         28,428 bytes\n",
      "               4 Dir(s)  216,750,559,232 bytes free\n"
     ]
    }
   ],
   "source": [
    "!dir"
   ]
  },
  {
   "cell_type": "code",
   "execution_count": null,
   "metadata": {},
   "outputs": [],
   "source": []
  }
 ],
 "metadata": {
  "kernelspec": {
   "display_name": "Python 3",
   "language": "python",
   "name": "python3"
  },
  "language_info": {
   "codemirror_mode": {
    "name": "ipython",
    "version": 3
   },
   "file_extension": ".py",
   "mimetype": "text/x-python",
   "name": "python",
   "nbconvert_exporter": "python",
   "pygments_lexer": "ipython3",
   "version": "3.11.5"
  }
 },
 "nbformat": 4,
 "nbformat_minor": 2
}
