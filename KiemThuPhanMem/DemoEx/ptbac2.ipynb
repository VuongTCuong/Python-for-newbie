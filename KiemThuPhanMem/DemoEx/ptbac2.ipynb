{
 "cells": [
  {
   "cell_type": "code",
   "execution_count": 2,
   "metadata": {},
   "outputs": [
    {
     "name": "stdout",
     "output_type": "stream",
     "text": [
      "import math\n",
      "\n",
      "def ptbac2(a,b,c):\n",
      "    sn,x1,x2 = None,None,None\n",
      "    if a==0:\n",
      "        if b==0:\n",
      "            if c==0:\n",
      "                sn = -1\n",
      "            else:\n",
      "                sn = 0\n",
      "        else:\n",
      "            sn = 1\n",
      "            x1 = -c/b\n",
      "    else:\n",
      "        delta = b*b-4*a*c\n",
      "        if delta < 0 :\n",
      "            sn = 0\n",
      "        if delta == 0:\n",
      "            sn = 1\n",
      "            x1 = -b/(2*a)\n",
      "        if delta > 0:\n",
      "            sn = 2\n",
      "            x1 = (-b-math.sqrt(delta))/(2*a)\n",
      "            x2 = (-b+math.sqrt(delta))/(2*a)\n",
      "    return sn,x1,x2\n",
      "\n",
      "if __name__ == '__main__':\n",
      "    a,b,c = (float(x) for x in input().split())\n",
      "    sn,x1,x2 = ptbac2(a,b,c)\n",
      "    if sn == 2 and x1>x2:\n",
      "        x1,x2 = x2,x1\n",
      "    print('Với phương trình {}x^2 + {}x + {} = 0, ta có:'.format(a,b,c))\n",
      "    print('- Số nghiệm: ',sn)\n",
      "    if sn == 0:\n",
      "        print('- Vậy phương trình vô nghiệm')\n",
      "    if sn == -1:\n",
      "        print('- Vậy phương trình vô số nghiệm')\n",
      "    if sn > 0:\n",
      "        print('- x1 = ',x1)\n",
      "        print('- x2 = ',x2)\n"
     ]
    }
   ],
   "source": [
    "!type ptbac2.py\n"
   ]
  },
  {
   "cell_type": "code",
   "execution_count": 3,
   "metadata": {},
   "outputs": [
    {
     "name": "stdout",
     "output_type": "stream",
     "text": [
      "Overwriting ptbac2_test.in\n"
     ]
    }
   ],
   "source": [
    "%%writefile ptbac2_test.in\n",
    "0 0 0"
   ]
  },
  {
   "cell_type": "code",
   "execution_count": 4,
   "metadata": {},
   "outputs": [
    {
     "name": "stdout",
     "output_type": "stream",
     "text": [
      "Với phương trình 0.0x^2 + 0.0x + 0.0 = 0, ta có:\n",
      "- Số nghiệm:  -1\n",
      "- Vậy phương trình vô số nghiệm\n"
     ]
    }
   ],
   "source": [
    "!python ptbac2.py < ptbac2_test.in \n"
   ]
  },
  {
   "cell_type": "code",
   "execution_count": 5,
   "metadata": {},
   "outputs": [
    {
     "name": "stdout",
     "output_type": "stream",
     "text": [
      "Overwriting ptbac2_test.in\n"
     ]
    }
   ],
   "source": [
    "%%writefile ptbac2_test.in\n",
    "0 0 1\n"
   ]
  },
  {
   "cell_type": "code",
   "execution_count": 6,
   "metadata": {},
   "outputs": [
    {
     "name": "stdout",
     "output_type": "stream",
     "text": [
      "Với phương trình 0.0x^2 + 0.0x + 1.0 = 0, ta có:\n",
      "- Số nghiệm:  0\n",
      "- Vậy phương trình vô nghiệm\n"
     ]
    }
   ],
   "source": [
    "!python ptbac2.py < ptbac2_test.in"
   ]
  },
  {
   "cell_type": "code",
   "execution_count": 7,
   "metadata": {},
   "outputs": [
    {
     "name": "stdout",
     "output_type": "stream",
     "text": [
      "Overwriting ptbac2_test.in\n"
     ]
    }
   ],
   "source": [
    "%%writefile ptbac2_test.in\n",
    "1 -5 6"
   ]
  },
  {
   "cell_type": "code",
   "execution_count": 8,
   "metadata": {},
   "outputs": [
    {
     "name": "stdout",
     "output_type": "stream",
     "text": [
      "Với phương trình 1.0x^2 + -5.0x + 6.0 = 0, ta có:\n",
      "- Số nghiệm:  2\n",
      "- x1 =  2.0\n",
      "- x2 =  3.0\n"
     ]
    }
   ],
   "source": [
    "!python ptbac2.py < ptbac2_test.in"
   ]
  }
 ],
 "metadata": {
  "kernelspec": {
   "display_name": "Python 3",
   "language": "python",
   "name": "python3"
  },
  "language_info": {
   "codemirror_mode": {
    "name": "ipython",
    "version": 3
   },
   "file_extension": ".py",
   "mimetype": "text/x-python",
   "name": "python",
   "nbconvert_exporter": "python",
   "pygments_lexer": "ipython3",
   "version": "3.11.5"
  }
 },
 "nbformat": 4,
 "nbformat_minor": 2
}
