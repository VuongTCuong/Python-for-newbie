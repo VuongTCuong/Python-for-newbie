{
 "cells": [
  {
   "cell_type": "code",
   "id": "initial_id",
   "metadata": {
    "collapsed": true,
    "ExecuteTime": {
     "end_time": "2024-09-13T14:40:16.782306Z",
     "start_time": "2024-09-13T14:40:16.765073Z"
    }
   },
   "source": "!dir",
   "outputs": [
    {
     "name": "stdout",
     "output_type": "stream",
     "text": [
      " Volume in drive E is HDD\n",
      " Volume Serial Number is 528D-9AB7\n",
      "\n",
      " Directory of E:\\PythonProcject\\KiemThuPhanMem\\Tuan1\n",
      "\n",
      "13/09/2024  09:40 PM    <DIR>          .\n",
      "13/09/2024  09:40 PM    <DIR>          ..\n",
      "13/09/2024  09:39 PM    <DIR>          .idea\n",
      "13/09/2024  09:30 PM    <DIR>          .venv\n",
      "13/09/2024  09:40 PM             2,713 ptbac2.ipynb\n",
      "13/09/2024  08:46 PM             1,051 ptbac2.py\n",
      "13/09/2024  09:39 PM                 0 ptbac2_test.init\n",
      "13/09/2024  09:12 PM             1,822 pttrungphuong.py\n",
      "               4 File(s)          5,586 bytes\n",
      "               4 Dir(s)  128,995,377,152 bytes free\n"
     ]
    }
   ],
   "execution_count": 4
  },
  {
   "metadata": {
    "ExecuteTime": {
     "end_time": "2024-09-13T14:39:51.838359Z",
     "start_time": "2024-09-13T14:39:51.832376Z"
    }
   },
   "cell_type": "code",
   "source": [
    "%%writefile ptbac2_test.init\n",
    "0 0 0"
   ],
   "id": "4c22ef89482a6a2",
   "outputs": [
    {
     "name": "stdout",
     "output_type": "stream",
     "text": [
      "Overwriting ptbac2_test.init\n"
     ]
    }
   ],
   "execution_count": 1
  },
  {
   "metadata": {
    "ExecuteTime": {
     "end_time": "2024-09-13T14:41:27.500095Z",
     "start_time": "2024-09-13T14:41:27.481625Z"
    }
   },
   "cell_type": "code",
   "source": "!python ptbac2.py > ptbac2_test.init",
   "id": "6cf7cf3e351e1887",
   "outputs": [
    {
     "name": "stderr",
     "output_type": "stream",
     "text": [
      "The process cannot access the file because it is being used by another process.\n"
     ]
    }
   ],
   "execution_count": 18
  },
  {
   "metadata": {},
   "cell_type": "code",
   "outputs": [],
   "execution_count": null,
   "source": "",
   "id": "39c9825683c549f7"
  }
 ],
 "metadata": {
  "kernelspec": {
   "display_name": "Python 3",
   "language": "python",
   "name": "python3"
  },
  "language_info": {
   "codemirror_mode": {
    "name": "ipython",
    "version": 2
   },
   "file_extension": ".py",
   "mimetype": "text/x-python",
   "name": "python",
   "nbconvert_exporter": "python",
   "pygments_lexer": "ipython2",
   "version": "2.7.6"
  }
 },
 "nbformat": 4,
 "nbformat_minor": 5
}
