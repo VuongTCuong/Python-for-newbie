{
 "cells": [
  {
   "cell_type": "code",
   "execution_count": 42,
   "metadata": {},
   "outputs": [
    {
     "name": "stdout",
     "output_type": "stream",
     "text": [
      "               0\n",
      "0    192.168.0.1\n",
      "1       10.0.0.2\n",
      "2   192.168.0.10\n",
      "3            NaN\n",
      "4            NaN\n",
      "5            NaN\n",
      "6            NaN\n",
      "7            NaN\n",
      "8            NaN\n",
      "9            NaN\n",
      "10           NaN\n",
      "11           NaN\n",
      "12           NaN\n",
      "13           NaN\n",
      "14           NaN\n"
     ]
    }
   ],
   "source": [
    "import pandas as pd\n",
    "log = pd.read_csv('practice_logs.csv')\n",
    "print(log['LogText'].str.extract(r'(\\d{1,3}\\.\\d{1,3}\\.\\d{1,3}\\.\\d{1,3})'))\n"
   ]
  },
  {
   "cell_type": "code",
   "execution_count": 43,
   "metadata": {},
   "outputs": [
    {
     "name": "stdout",
     "output_type": "stream",
     "text": [
      "           0\n",
      "0   10:30:15\n",
      "1   10:35:23\n",
      "2   10:40:41\n",
      "3   10:45:59\n",
      "4   10:50:01\n",
      "5   10:55:10\n",
      "6   11:00:23\n",
      "7   11:05:32\n",
      "8   11:10:47\n",
      "9   11:15:55\n",
      "10  11:20:01\n",
      "11  11:25:12\n",
      "12  11:30:25\n",
      "13  11:35:30\n",
      "14  11:40:41\n"
     ]
    }
   ],
   "source": [
    "print(log['LogText'].str.extract(r'(\\d{1,2}\\:\\d{1,2}\\:\\d{1,2})'))"
   ]
  },
  {
   "cell_type": "code",
   "execution_count": 88,
   "metadata": {},
   "outputs": [
    {
     "name": "stdout",
     "output_type": "stream",
     "text": [
      "       0\n",
      "0  error\n"
     ]
    }
   ],
   "source": [
    "print(log['LogText'].str.count(r'(\\bError\\b)')) \n",
    "\n",
    "\n"
   ]
  }
 ],
 "metadata": {
  "kernelspec": {
   "display_name": "Python 3",
   "language": "python",
   "name": "python3"
  },
  "language_info": {
   "codemirror_mode": {
    "name": "ipython",
    "version": 3
   },
   "file_extension": ".py",
   "mimetype": "text/x-python",
   "name": "python",
   "nbconvert_exporter": "python",
   "pygments_lexer": "ipython3",
   "version": "3.11.5"
  }
 },
 "nbformat": 4,
 "nbformat_minor": 2
}
